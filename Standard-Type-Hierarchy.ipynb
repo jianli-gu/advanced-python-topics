{
 "metadata": {
  "language_info": {
   "codemirror_mode": {
    "name": "ipython",
    "version": 3
   },
   "file_extension": ".py",
   "mimetype": "text/x-python",
   "name": "python",
   "nbconvert_exporter": "python",
   "pygments_lexer": "ipython3",
   "version": "3.8.2-final"
  },
  "orig_nbformat": 2,
  "kernelspec": {
   "name": "python_defaultSpec_1597814235497",
   "display_name": "Python 3.8.2 64-bit ('dev': venv)"
  }
 },
 "nbformat": 4,
 "nbformat_minor": 2,
 "cells": [
  {
   "cell_type": "markdown",
   "metadata": {},
   "source": [
    "# None"
   ]
  },
  {
   "cell_type": "code",
   "execution_count": 12,
   "metadata": {},
   "outputs": [],
   "source": [
    "None"
   ]
  },
  {
   "cell_type": "code",
   "execution_count": 13,
   "metadata": {
    "tags": []
   },
   "outputs": [
    {
     "output_type": "stream",
     "name": "stdout",
     "text": "None\n"
    }
   ],
   "source": [
    "print(None)"
   ]
  },
  {
   "cell_type": "code",
   "execution_count": 14,
   "metadata": {},
   "outputs": [
    {
     "output_type": "execute_result",
     "data": {
      "text/plain": "NoneType"
     },
     "metadata": {},
     "execution_count": 14
    }
   ],
   "source": [
    "type(None)"
   ]
  },
  {
   "cell_type": "code",
   "execution_count": 15,
   "metadata": {},
   "outputs": [
    {
     "output_type": "execute_result",
     "data": {
      "text/plain": "<module 'builtins' (built-in)>"
     },
     "metadata": {},
     "execution_count": 15
    }
   ],
   "source": [
    "__builtins__"
   ]
  },
  {
   "cell_type": "code",
   "execution_count": 16,
   "metadata": {},
   "outputs": [
    {
     "output_type": "execute_result",
     "data": {
      "text/plain": "['ArithmeticError',\n 'AssertionError',\n 'AttributeError',\n 'BaseException',\n 'BlockingIOError',\n 'BrokenPipeError',\n 'BufferError',\n 'BytesWarning',\n 'ChildProcessError',\n 'ConnectionAbortedError',\n 'ConnectionError',\n 'ConnectionRefusedError',\n 'ConnectionResetError',\n 'DeprecationWarning',\n 'EOFError',\n 'Ellipsis',\n 'EnvironmentError',\n 'Exception',\n 'False',\n 'FileExistsError',\n 'FileNotFoundError',\n 'FloatingPointError',\n 'FutureWarning',\n 'GeneratorExit',\n 'IOError',\n 'ImportError',\n 'ImportWarning',\n 'IndentationError',\n 'IndexError',\n 'InterruptedError',\n 'IsADirectoryError',\n 'KeyError',\n 'KeyboardInterrupt',\n 'LookupError',\n 'MemoryError',\n 'ModuleNotFoundError',\n 'NameError',\n 'None',\n 'NotADirectoryError',\n 'NotImplemented',\n 'NotImplementedError',\n 'OSError',\n 'OverflowError',\n 'PendingDeprecationWarning',\n 'PermissionError',\n 'ProcessLookupError',\n 'RecursionError',\n 'ReferenceError',\n 'ResourceWarning',\n 'RuntimeError',\n 'RuntimeWarning',\n 'StopAsyncIteration',\n 'StopIteration',\n 'SyntaxError',\n 'SyntaxWarning',\n 'SystemError',\n 'SystemExit',\n 'TabError',\n 'TimeoutError',\n 'True',\n 'TypeError',\n 'UnboundLocalError',\n 'UnicodeDecodeError',\n 'UnicodeEncodeError',\n 'UnicodeError',\n 'UnicodeTranslateError',\n 'UnicodeWarning',\n 'UserWarning',\n 'ValueError',\n 'Warning',\n 'ZeroDivisionError',\n '__IPYTHON__',\n '__build_class__',\n '__debug__',\n '__doc__',\n '__import__',\n '__loader__',\n '__name__',\n '__package__',\n '__pybind11_internals_v3_gcc_libstdcpp_cxxabi1002__',\n '__spec__',\n 'abs',\n 'all',\n 'any',\n 'ascii',\n 'bin',\n 'bool',\n 'breakpoint',\n 'bytearray',\n 'bytes',\n 'callable',\n 'chr',\n 'classmethod',\n 'compile',\n 'complex',\n 'copyright',\n 'credits',\n 'delattr',\n 'dict',\n 'dir',\n 'display',\n 'divmod',\n 'enumerate',\n 'eval',\n 'exec',\n 'filter',\n 'float',\n 'format',\n 'frozenset',\n 'get_ipython',\n 'getattr',\n 'globals',\n 'hasattr',\n 'hash',\n 'help',\n 'hex',\n 'id',\n 'input',\n 'int',\n 'isinstance',\n 'issubclass',\n 'iter',\n 'len',\n 'license',\n 'list',\n 'locals',\n 'map',\n 'max',\n 'memoryview',\n 'min',\n 'next',\n 'object',\n 'oct',\n 'open',\n 'ord',\n 'pow',\n 'print',\n 'property',\n 'range',\n 'repr',\n 'reversed',\n 'round',\n 'set',\n 'setattr',\n 'slice',\n 'sorted',\n 'staticmethod',\n 'str',\n 'sum',\n 'super',\n 'tuple',\n 'type',\n 'vars',\n 'zip']"
     },
     "metadata": {},
     "execution_count": 16
    }
   ],
   "source": [
    "dir(__builtins__)"
   ]
  },
  {
   "cell_type": "code",
   "execution_count": 17,
   "metadata": {},
   "outputs": [],
   "source": [
    "getattr(__builtins__, \"None\")"
   ]
  },
  {
   "cell_type": "code",
   "execution_count": 18,
   "metadata": {},
   "outputs": [],
   "source": [
    "# Singleton\n",
    "another_none = type(None)()"
   ]
  },
  {
   "cell_type": "code",
   "execution_count": 19,
   "metadata": {},
   "outputs": [
    {
     "output_type": "execute_result",
     "data": {
      "text/plain": "True"
     },
     "metadata": {},
     "execution_count": 19
    }
   ],
   "source": [
    "another_none is None"
   ]
  },
  {
   "cell_type": "code",
   "execution_count": 20,
   "metadata": {},
   "outputs": [
    {
     "output_type": "execute_result",
     "data": {
      "text/plain": "True"
     },
     "metadata": {},
     "execution_count": 20
    }
   ],
   "source": [
    "another_none == None"
   ]
  },
  {
   "cell_type": "code",
   "execution_count": 21,
   "metadata": {},
   "outputs": [
    {
     "output_type": "execute_result",
     "data": {
      "text/plain": "9447968"
     },
     "metadata": {},
     "execution_count": 21
    }
   ],
   "source": [
    "id(None)"
   ]
  },
  {
   "cell_type": "code",
   "execution_count": 22,
   "metadata": {},
   "outputs": [
    {
     "output_type": "execute_result",
     "data": {
      "text/plain": "9447968"
     },
     "metadata": {},
     "execution_count": 22
    }
   ],
   "source": [
    "id(another_none)"
   ]
  },
  {
   "cell_type": "code",
   "execution_count": 23,
   "metadata": {},
   "outputs": [
    {
     "output_type": "error",
     "ename": "TypeError",
     "evalue": "type 'NoneType' is not an acceptable base type",
     "traceback": [
      "\u001b[0;31m---------------------------------------------------------------------------\u001b[0m",
      "\u001b[0;31mTypeError\u001b[0m                                 Traceback (most recent call last)",
      "\u001b[0;32m<ipython-input-23-751b3da67beb>\u001b[0m in \u001b[0;36m<module>\u001b[0;34m\u001b[0m\n\u001b[0;32m----> 1\u001b[0;31m \u001b[0;32mclass\u001b[0m \u001b[0mAnotherNone\u001b[0m\u001b[0;34m(\u001b[0m\u001b[0mtype\u001b[0m\u001b[0;34m(\u001b[0m\u001b[0;32mNone\u001b[0m\u001b[0;34m)\u001b[0m\u001b[0;34m)\u001b[0m\u001b[0;34m:\u001b[0m\u001b[0;34m\u001b[0m\u001b[0;34m\u001b[0m\u001b[0m\n\u001b[0m\u001b[1;32m      2\u001b[0m     \u001b[0;32mpass\u001b[0m\u001b[0;34m\u001b[0m\u001b[0;34m\u001b[0m\u001b[0m\n",
      "\u001b[0;31mTypeError\u001b[0m: type 'NoneType' is not an acceptable base type"
     ]
    }
   ],
   "source": [
    "class AnotherNone(type(None)):\n",
    "    pass"
   ]
  },
  {
   "cell_type": "markdown",
   "metadata": {},
   "source": [
    "# NotImplemented"
   ]
  },
  {
   "cell_type": "code",
   "execution_count": 24,
   "metadata": {
    "tags": []
   },
   "outputs": [],
   "source": [
    "class SmallFloat:\n",
    "    def __init__(self, value):\n",
    "        self.value = value\n",
    "    \n",
    "    def __lt__(self, other):\n",
    "        if isinstance(other, (SmallFloat, SmallInt)):\n",
    "            print(\"Call SmallFloat.__lt__...\")\n",
    "            return self.value < other.value\n",
    "        return NotImplemented\n",
    "    \n",
    "    def __gt__(self, other):\n",
    "        print(\"Not implement SmallFloat.__gt__\")\n",
    "        return NotImplemented"
   ]
  },
  {
   "cell_type": "code",
   "execution_count": 25,
   "metadata": {
    "tags": []
   },
   "outputs": [
    {
     "output_type": "stream",
     "name": "stdout",
     "text": "Not implement SmallFloat.__gt__\n"
    },
    {
     "output_type": "error",
     "ename": "NameError",
     "evalue": "name 'SmallInt' is not defined",
     "traceback": [
      "\u001b[0;31m---------------------------------------------------------------------------\u001b[0m",
      "\u001b[0;31mNameError\u001b[0m                                 Traceback (most recent call last)",
      "\u001b[0;32m<ipython-input-25-e11edd32fc85>\u001b[0m in \u001b[0;36m<module>\u001b[0;34m\u001b[0m\n\u001b[1;32m      1\u001b[0m \u001b[0mf1\u001b[0m \u001b[0;34m=\u001b[0m \u001b[0mSmallFloat\u001b[0m\u001b[0;34m(\u001b[0m\u001b[0;36m10.0\u001b[0m\u001b[0;34m)\u001b[0m\u001b[0;34m\u001b[0m\u001b[0;34m\u001b[0m\u001b[0m\n\u001b[1;32m      2\u001b[0m \u001b[0mf2\u001b[0m \u001b[0;34m=\u001b[0m \u001b[0mSmallFloat\u001b[0m\u001b[0;34m(\u001b[0m\u001b[0;36m20.0\u001b[0m\u001b[0;34m)\u001b[0m\u001b[0;34m\u001b[0m\u001b[0;34m\u001b[0m\u001b[0m\n\u001b[0;32m----> 3\u001b[0;31m \u001b[0mf1\u001b[0m \u001b[0;34m>\u001b[0m \u001b[0mf2\u001b[0m\u001b[0;34m\u001b[0m\u001b[0;34m\u001b[0m\u001b[0m\n\u001b[0m",
      "\u001b[0;32m<ipython-input-24-e7003f427059>\u001b[0m in \u001b[0;36m__lt__\u001b[0;34m(self, other)\u001b[0m\n\u001b[1;32m      4\u001b[0m \u001b[0;34m\u001b[0m\u001b[0m\n\u001b[1;32m      5\u001b[0m     \u001b[0;32mdef\u001b[0m \u001b[0m__lt__\u001b[0m\u001b[0;34m(\u001b[0m\u001b[0mself\u001b[0m\u001b[0;34m,\u001b[0m \u001b[0mother\u001b[0m\u001b[0;34m)\u001b[0m\u001b[0;34m:\u001b[0m\u001b[0;34m\u001b[0m\u001b[0;34m\u001b[0m\u001b[0m\n\u001b[0;32m----> 6\u001b[0;31m         \u001b[0;32mif\u001b[0m \u001b[0misinstance\u001b[0m\u001b[0;34m(\u001b[0m\u001b[0mother\u001b[0m\u001b[0;34m,\u001b[0m \u001b[0;34m(\u001b[0m\u001b[0mSmallFloat\u001b[0m\u001b[0;34m,\u001b[0m \u001b[0mSmallInt\u001b[0m\u001b[0;34m)\u001b[0m\u001b[0;34m)\u001b[0m\u001b[0;34m:\u001b[0m\u001b[0;34m\u001b[0m\u001b[0;34m\u001b[0m\u001b[0m\n\u001b[0m\u001b[1;32m      7\u001b[0m             \u001b[0mprint\u001b[0m\u001b[0;34m(\u001b[0m\u001b[0;34m\"Call SmallFloat.__lt__...\"\u001b[0m\u001b[0;34m)\u001b[0m\u001b[0;34m\u001b[0m\u001b[0;34m\u001b[0m\u001b[0m\n\u001b[1;32m      8\u001b[0m             \u001b[0;32mreturn\u001b[0m \u001b[0mself\u001b[0m\u001b[0;34m.\u001b[0m\u001b[0mvalue\u001b[0m \u001b[0;34m<\u001b[0m \u001b[0mother\u001b[0m\u001b[0;34m.\u001b[0m\u001b[0mvalue\u001b[0m\u001b[0;34m\u001b[0m\u001b[0;34m\u001b[0m\u001b[0m\n",
      "\u001b[0;31mNameError\u001b[0m: name 'SmallInt' is not defined"
     ]
    }
   ],
   "source": [
    "f1 = SmallFloat(10.0)\n",
    "f2 = SmallFloat(20.0)\n",
    "f1 > f2"
   ]
  },
  {
   "cell_type": "code",
   "execution_count": 26,
   "metadata": {
    "tags": []
   },
   "outputs": [],
   "source": [
    "class SmallFloat:\n",
    "    def __init__(self, value):\n",
    "        self.value = value\n",
    "    \n",
    "    def __lt__(self, other):\n",
    "        if isinstance(other, (SmallFloat, SmallInt)):\n",
    "            print(\"Call SmallFloat.__lt__...\")\n",
    "            return self.value < other.value\n",
    "        return NotImplemented\n",
    "    \n",
    "    def __gt__(self, other):\n",
    "        print(\"Not implement SmallFloat.__gt__\")\n",
    "        raise NotImplementedError"
   ]
  },
  {
   "cell_type": "code",
   "execution_count": 27,
   "metadata": {
    "tags": []
   },
   "outputs": [
    {
     "output_type": "stream",
     "name": "stdout",
     "text": "Not implement SmallFloat.__gt__\n"
    },
    {
     "output_type": "error",
     "ename": "NotImplementedError",
     "evalue": "",
     "traceback": [
      "\u001b[0;31m---------------------------------------------------------------------------\u001b[0m",
      "\u001b[0;31mNotImplementedError\u001b[0m                       Traceback (most recent call last)",
      "\u001b[0;32m<ipython-input-27-e11edd32fc85>\u001b[0m in \u001b[0;36m<module>\u001b[0;34m\u001b[0m\n\u001b[1;32m      1\u001b[0m \u001b[0mf1\u001b[0m \u001b[0;34m=\u001b[0m \u001b[0mSmallFloat\u001b[0m\u001b[0;34m(\u001b[0m\u001b[0;36m10.0\u001b[0m\u001b[0;34m)\u001b[0m\u001b[0;34m\u001b[0m\u001b[0;34m\u001b[0m\u001b[0m\n\u001b[1;32m      2\u001b[0m \u001b[0mf2\u001b[0m \u001b[0;34m=\u001b[0m \u001b[0mSmallFloat\u001b[0m\u001b[0;34m(\u001b[0m\u001b[0;36m20.0\u001b[0m\u001b[0;34m)\u001b[0m\u001b[0;34m\u001b[0m\u001b[0;34m\u001b[0m\u001b[0m\n\u001b[0;32m----> 3\u001b[0;31m \u001b[0mf1\u001b[0m \u001b[0;34m>\u001b[0m \u001b[0mf2\u001b[0m\u001b[0;34m\u001b[0m\u001b[0;34m\u001b[0m\u001b[0m\n\u001b[0m",
      "\u001b[0;32m<ipython-input-26-0f352a949b3c>\u001b[0m in \u001b[0;36m__gt__\u001b[0;34m(self, other)\u001b[0m\n\u001b[1;32m     11\u001b[0m     \u001b[0;32mdef\u001b[0m \u001b[0m__gt__\u001b[0m\u001b[0;34m(\u001b[0m\u001b[0mself\u001b[0m\u001b[0;34m,\u001b[0m \u001b[0mother\u001b[0m\u001b[0;34m)\u001b[0m\u001b[0;34m:\u001b[0m\u001b[0;34m\u001b[0m\u001b[0;34m\u001b[0m\u001b[0m\n\u001b[1;32m     12\u001b[0m         \u001b[0mprint\u001b[0m\u001b[0;34m(\u001b[0m\u001b[0;34m\"Not implement SmallFloat.__gt__\"\u001b[0m\u001b[0;34m)\u001b[0m\u001b[0;34m\u001b[0m\u001b[0;34m\u001b[0m\u001b[0m\n\u001b[0;32m---> 13\u001b[0;31m         \u001b[0;32mraise\u001b[0m \u001b[0mNotImplementedError\u001b[0m\u001b[0;34m\u001b[0m\u001b[0;34m\u001b[0m\u001b[0m\n\u001b[0m",
      "\u001b[0;31mNotImplementedError\u001b[0m: "
     ]
    }
   ],
   "source": [
    "f1 = SmallFloat(10.0)\n",
    "f2 = SmallFloat(20.0)\n",
    "f1 > f2"
   ]
  },
  {
   "cell_type": "code",
   "execution_count": 28,
   "metadata": {},
   "outputs": [
    {
     "output_type": "execute_result",
     "data": {
      "text/plain": "True"
     },
     "metadata": {},
     "execution_count": 28
    }
   ],
   "source": [
    "bool(NotImplemented)"
   ]
  },
  {
   "cell_type": "markdown",
   "metadata": {},
   "source": [
    "# Ellipsis"
   ]
  },
  {
   "cell_type": "code",
   "execution_count": 29,
   "metadata": {},
   "outputs": [
    {
     "output_type": "execute_result",
     "data": {
      "text/plain": "Ellipsis"
     },
     "metadata": {},
     "execution_count": 29
    }
   ],
   "source": [
    "Ellipsis"
   ]
  },
  {
   "cell_type": "code",
   "execution_count": 30,
   "metadata": {},
   "outputs": [
    {
     "output_type": "execute_result",
     "data": {
      "text/plain": "ellipsis"
     },
     "metadata": {},
     "execution_count": 30
    }
   ],
   "source": [
    "type(Ellipsis)"
   ]
  },
  {
   "cell_type": "code",
   "execution_count": 31,
   "metadata": {},
   "outputs": [
    {
     "output_type": "execute_result",
     "data": {
      "text/plain": "Ellipsis"
     },
     "metadata": {},
     "execution_count": 31
    }
   ],
   "source": [
    "..."
   ]
  },
  {
   "cell_type": "code",
   "execution_count": 32,
   "metadata": {},
   "outputs": [],
   "source": [
    "import numpy as np"
   ]
  },
  {
   "cell_type": "code",
   "execution_count": 33,
   "metadata": {},
   "outputs": [],
   "source": [
    "x = np.arange(16).reshape(2, 2, 4)"
   ]
  },
  {
   "cell_type": "code",
   "execution_count": 34,
   "metadata": {},
   "outputs": [
    {
     "output_type": "execute_result",
     "data": {
      "text/plain": "array([[[ 0,  1,  2,  3],\n        [ 4,  5,  6,  7]],\n\n       [[ 8,  9, 10, 11],\n        [12, 13, 14, 15]]])"
     },
     "metadata": {},
     "execution_count": 34
    }
   ],
   "source": [
    "x"
   ]
  },
  {
   "cell_type": "code",
   "execution_count": 35,
   "metadata": {},
   "outputs": [
    {
     "output_type": "execute_result",
     "data": {
      "text/plain": "array([[[ 0,  1,  2,  3],\n        [ 4,  5,  6,  7]],\n\n       [[ 8,  9, 10, 11],\n        [12, 13, 14, 15]]])"
     },
     "metadata": {},
     "execution_count": 35
    }
   ],
   "source": [
    "x[...]"
   ]
  },
  {
   "cell_type": "code",
   "execution_count": 36,
   "metadata": {},
   "outputs": [
    {
     "output_type": "execute_result",
     "data": {
      "text/plain": "array([[ 8,  9, 10, 11],\n       [12, 13, 14, 15]])"
     },
     "metadata": {},
     "execution_count": 36
    }
   ],
   "source": [
    "x[1,...]"
   ]
  },
  {
   "cell_type": "code",
   "execution_count": 37,
   "metadata": {},
   "outputs": [
    {
     "output_type": "execute_result",
     "data": {
      "text/plain": "array([[ 1,  5],\n       [ 9, 13]])"
     },
     "metadata": {},
     "execution_count": 37
    }
   ],
   "source": [
    "x[...,1]"
   ]
  },
  {
   "cell_type": "code",
   "execution_count": 38,
   "metadata": {},
   "outputs": [
    {
     "output_type": "execute_result",
     "data": {
      "text/plain": "array([ 9, 13])"
     },
     "metadata": {},
     "execution_count": 38
    }
   ],
   "source": [
    "x[1, ..., 1]"
   ]
  },
  {
   "cell_type": "code",
   "execution_count": 39,
   "metadata": {},
   "outputs": [
    {
     "output_type": "execute_result",
     "data": {
      "text/plain": "array([ 5, 13])"
     },
     "metadata": {},
     "execution_count": 39
    }
   ],
   "source": [
    "x[..., 1, 1]"
   ]
  },
  {
   "cell_type": "markdown",
   "metadata": {},
   "source": [
    "# Callables"
   ]
  },
  {
   "cell_type": "markdown",
   "metadata": {},
   "source": [
    "## User-defined function"
   ]
  },
  {
   "cell_type": "code",
   "execution_count": 40,
   "metadata": {},
   "outputs": [],
   "source": [
    "def run(a: int, b: float, c: float = 1.0) -> float:\n",
    "    \"\"\"Process numbers\"\"\"\n",
    "    return a + b + c"
   ]
  },
  {
   "cell_type": "code",
   "execution_count": 41,
   "metadata": {},
   "outputs": [
    {
     "output_type": "execute_result",
     "data": {
      "text/plain": "'Process numbers'"
     },
     "metadata": {},
     "execution_count": 41
    }
   ],
   "source": [
    "run.__doc__"
   ]
  },
  {
   "cell_type": "code",
   "execution_count": 42,
   "metadata": {},
   "outputs": [
    {
     "output_type": "execute_result",
     "data": {
      "text/plain": "'run'"
     },
     "metadata": {},
     "execution_count": 42
    }
   ],
   "source": [
    "run.__name__"
   ]
  },
  {
   "cell_type": "code",
   "execution_count": 43,
   "metadata": {},
   "outputs": [
    {
     "output_type": "execute_result",
     "data": {
      "text/plain": "'run'"
     },
     "metadata": {},
     "execution_count": 43
    }
   ],
   "source": [
    "run.__qualname__"
   ]
  },
  {
   "cell_type": "code",
   "execution_count": 44,
   "metadata": {},
   "outputs": [
    {
     "output_type": "execute_result",
     "data": {
      "text/plain": "'__main__'"
     },
     "metadata": {},
     "execution_count": 44
    }
   ],
   "source": [
    "run.__module__"
   ]
  },
  {
   "cell_type": "code",
   "execution_count": 45,
   "metadata": {},
   "outputs": [
    {
     "output_type": "execute_result",
     "data": {
      "text/plain": "(1.0,)"
     },
     "metadata": {},
     "execution_count": 45
    }
   ],
   "source": [
    "run.__defaults__"
   ]
  },
  {
   "cell_type": "code",
   "execution_count": 46,
   "metadata": {},
   "outputs": [
    {
     "output_type": "execute_result",
     "data": {
      "text/plain": "<code object run at 0x7f816d466190, file \"<ipython-input-40-8fe405244565>\", line 1>"
     },
     "metadata": {},
     "execution_count": 46
    }
   ],
   "source": [
    "run.__code__"
   ]
  },
  {
   "cell_type": "code",
   "execution_count": 47,
   "metadata": {},
   "outputs": [
    {
     "output_type": "execute_result",
     "data": {
      "text/plain": "]),\n  36: array([[ 8,  9, 10, 11],\n         [12, 13, 14, 15]]),\n  37: array([[ 1,  5],\n         [ 9, 13]]),\n  38: array([ 9, 13]),\n  39: array([ 5, 13]),\n  41: 'Process numbers',\n  42: 'run',\n  43: 'run',\n  44: '__main__',\n  45: (1.0,),\n  46: <code object run at 0x7f816d466190, file \"<ipython-input-40-8fe405244565>\", line 1>},\n 'get_ipython': <bound method InteractiveShell.get_ipython of <ipykernel.zmqshell.ZMQInteractiveShell object at 0x7f816824d8b0>>,\n 'exit': <IPython.core.autocall.ZMQExitAutocall at 0x7f816827c1f0>,\n 'quit': <IPython.core.autocall.ZMQExitAutocall at 0x7f816827c1f0>,\n '_': <code object run at 0x7f816d466190, file \"<ipython-input-40-8fe405244565>\", line 1>,\n '__': (1.0,),\n '___': '__main__',\n '_rwho_ls': ['os', 'sio', 'sys'],\n 'os': <module 'os' from '/usr/lib/python3.8/os.py'>,\n 'sys': <module 'sys' (built-in)>,\n '_i': 'run.__code__',\n '_ii': 'run.__defaults__',\n '_iii': 'run.__module__',\n '_i1': 'import scipy.io as sio',\n 'sio': <module 'scipy.io' from '/home/jianli/.virtualenvs/dev/lib/python3.8/site-packages/scipy/io/__init__.py'>,\n '_i2': 'sio.__name__',\n '_2': 'scipy.io',\n '_i3': 'sio.__loader__',\n '_3': <_frozen_importlib_external.SourceFileLoader at 0x7f8168205cd0>,\n '_i4': 'sio.__spec__',\n '_4': ModuleSpec(name='scipy.io', loader=<_frozen_importlib_external.SourceFileLoader object at 0x7f8168205cd0>, origin='/home/jianli/.virtualenvs/dev/lib/python3.8/site-packages/scipy/io/__init__.py', submodule_search_locations=['/home/jianli/.virtualenvs/dev/lib/python3.8/site-packages/scipy/io']),\n '_i5': 'sio.__path__',\n '_5': ['/home/jianli/.virtualenvs/dev/lib/python3.8/site-packages/scipy/io'],\n '_i6': 'sio.__spec__',\n '_6': ModuleSpec(name='scipy.io', loader=<_frozen_importlib_external.SourceFileLoader object at 0x7f8168205cd0>, origin='/home/jianli/.virtualenvs/dev/lib/python3.8/site-packages/scipy/io/__init__.py', submodule_search_locations=['/home/jianli/.virtualenvs/dev/lib/python3.8/site-packages/scipy/io']),\n '_i7': 'sio.__path__',\n '_7': ['/home/jianli/.virtualenvs/dev/lib/python3.8/site-packages/scipy/io'],\n '_i8': 'sio.__file__',\n '_8': '/home/jianli/.virtualenvs/dev/lib/python3.8/site-packages/scipy/io/__init__.py',\n '_i9': 'sio.__cached__',\n '_9': '/home/jianli/.virtualenvs/dev/lib/python3.8/site-packages/scipy/io/__pycache__/__init__.cpython-38.pyc',\n '_i10': 'sio.__dict__',\n '_10': {'__name__': 'scipy.io',\n  '__doc__': \"\\n==================================\\nInput and output (:mod:`scipy.io`)\\n==================================\\n\\n.. currentmodule:: scipy.io\\n\\nSciPy has many modules, classes, and functions available to read data\\nfrom and write data to a variety of file formats.\\n\\n.. seealso:: `NumPy IO routines <https://www.numpy.org/devdocs/reference/routines.io.html>`__\\n\\nMATLAB® files\\n=============\\n\\n.. autosummary::\\n   :toctree: generated/\\n\\n   loadmat - Read a MATLAB style mat file (version 4 through 7.1)\\n   savemat - Write a MATLAB style mat file (version 4 through 7.1)\\n   whosmat - List contents of a MATLAB style mat file (version 4 through 7.1)\\n\\nIDL® files\\n==========\\n\\n.. autosummary::\\n   :toctree: generated/\\n\\n   readsav - Read an IDL 'save' file\\n\\nMatrix Market files\\n===================\\n\\n.. autosummary::\\n   :toctree: generated/\\n\\n   mminfo - Query matrix info from Matrix Market formatted file\\n   mmread - Read matrix from Matrix Market formatted file\\n   mmwrite - Write matrix to Matrix Market formatted file\\n\\nUnformatted Fortran files\\n===============================\\n\\n.. autosummary::\\n   :toctree: generated/\\n\\n   FortranFile - A file object for unformatted sequential Fortran files\\n   FortranEOFError - Exception indicating the end of a well-formed file\\n   FortranFormattingError - Exception indicating an inappropriate end\\n\\nNetcdf\\n======\\n\\n.. autosummary::\\n   :toctree: generated/\\n\\n   netcdf_file - A file object for NetCDF data\\n   netcdf_variable - A data object for the netcdf module\\n\\nHarwell-Boeing files\\n====================\\n\\n.. autosummary::\\n   :toctree: generated/\\n\\n   hb_read   -- read H-B file\\n   hb_write  -- write H-B file\\n\\nWav sound files (:mod:`scipy.io.wavfile`)\\n=========================================\\n\\n.. module:: scipy.io.wavfile\\n\\n.. autosummary::\\n   :toctree: generated/\\n\\n   read\\n   write\\n   WavFileWarning\\n\\nArff files (:mod:`scipy.io.arff`)\\n=================================\\n\\n.. module:: scipy.io.arff\\n\\n.. autosummary::\\n   :toctree: generated/\\n\\n   loadarff\\n   MetaData\\n   ArffError\\n   ParseArffError\\n\\n\",\n  '__package__': 'scipy.io',\n  '__loader__': <_frozen_importlib_external.SourceFileLoader at 0x7f8168205cd0>,\n  '__spec__': ModuleSpec(name='scipy.io', loader=<_frozen_importlib_external.SourceFileLoader object at 0x7f8168205cd0>, origin='/home/jianli/.virtualenvs/dev/lib/python3.8/site-packages/scipy/io/__init__.py', submodule_search_locations=['/home/jianli/.virtualenvs/dev/lib/python3.8/site-packages/scipy/io']),\n  '__path__': ['/home/jianli/.virtualenvs/dev/lib/python3.8/site-packages/scipy/io'],\n  '__file__': '/home/jianli/.virtualenvs/dev/lib/python3.8/site-packages/scipy/io/__init__.py',\n  '__cached__': '/home/jianli/.virtualenvs/dev/lib/python3.8/site-packages/scipy/io/__pycache__/__init__.cpython-38.pyc',\n  '__builtins__': {'__name__': 'builtins',\n   '__doc__': \"Built-in functions, exceptions, and other objects.\\n\\nNoteworthy: None is the `nil' object; Ellipsis represents `...' in slices.\",\n   '__package__': '',\n   '__loader__': _frozen_importlib.BuiltinImporter,\n   '__spec__': ModuleSpec(name='builtins', loader=<class '_frozen_importlib.BuiltinImporter'>),\n   '__build_class__': <function __build_class__>,\n   '__import__': <function __import__>,\n   'abs': <function abs(x, /)>,\n   'all': <function all(iterable, /)>,\n   'any': <function any(iterable, /)>,\n   'ascii': <function ascii(obj, /)>,\n   'bin': <function bin(number, /)>,\n   'breakpoint': <function breakpoint>,\n   'callable': <function callable(obj, /)>,\n   'chr': <function chr(i, /)>,\n   'compile': <function compile(source, filename, mode, flags=0, dont_inherit=False, optimize=-1, *, _feature_version=-1)>,\n   'delattr': <function delattr(obj, name, /)>,\n   'dir': <function dir>,\n   'divmod': <function divmod(x, y, /)>,\n   'eval': <function eval(source, globals=None, locals=None, /)>,\n   'exec': <function exec(source, globals=None, locals=None, /)>,\n   'format': <function format(value, format_spec='', /)>,\n   'getattr': <function getattr>,\n   'globals': <function globals()>,\n   'hasattr': <function hasattr(obj, name, /)>,\n   'hash': <function hash(obj, /)>,\n   'hex': <function hex(number, /)>,\n   'id': <function id(obj, /)>,\n   'input': <bound method Kernel.raw_input of <ipykernel.ipkernel.IPythonKernel object at 0x7f8169aa4910>>,\n   'isinstance': <function isinstance(obj, class_or_tuple, /)>,\n   'issubclass': <function issubclass(cls, class_or_tuple, /)>,\n   'iter': <function iter>,\n   'len': <function len(obj, /)>,\n   'locals': <function locals()>,\n   'max': <function max>,\n   'min': <function min>,\n   'next': <function next>,\n   'oct': <function oct(number, /)>,\n   'ord': <function ord(c, /)>,\n   'pow': <function pow(base, exp, mod=None)>,\n   'print': <function print>,\n   'repr': <function repr(obj, /)>,\n   'round': <function round(number, ndigits=None)>,\n   'setattr': <function setattr(obj, name, value, /)>,\n   'sorted': <function sorted(iterable, /, *, key=None, reverse=False)>,\n   'sum': <function sum(iterable, /, start=0)>,\n   'vars': <function vars>,\n   'None': None,\n   'Ellipsis': Ellipsis,\n   'NotImplemented': NotImplemented,\n   'False': False,\n   'True': True,\n   'bool': bool,\n   'memoryview': memoryview,\n   'bytearray': bytearray,\n   'bytes': bytes,\n   'classmethod': classmethod,\n   'complex': complex,\n   'dict': dict,\n   'enumerate': enumerate,\n   'filter': filter,\n   'float': float,\n   'frozenset': frozenset,\n   'property': property,\n   'int': int,\n   'list': list,\n   'map': map,\n   'object': object,\n   'range': range,\n   'reversed': reversed,\n   'set': set,\n   'slice': slice,\n   'staticmethod': staticmethod,\n   'str': str,\n   'super': super,\n   'tuple': tuple,\n   'type': type,\n   'zip': zip,\n   '__debug__': True,\n   'BaseException': BaseException,\n   'Exception': Exception,\n   'TypeError': TypeError,\n   'StopAsyncIteration': StopAsyncIteration,\n   'StopIteration': StopIteration,\n   'GeneratorExit': GeneratorExit,\n   'SystemExit': SystemExit,\n   'KeyboardInterrupt': KeyboardInterrupt,\n   'ImportError': ImportError,\n   'ModuleNotFoundError': ModuleNotFoundError,\n   'OSError': OSError,\n   'EnvironmentError': OSError,\n   'IOError': OSError,\n   'EOFError': EOFError,\n   'RuntimeError': RuntimeError,\n   'RecursionError': RecursionError,\n   'NotImplementedError': NotImplementedError,\n   'NameError': NameError,\n   'UnboundLocalError': UnboundLocalError,\n   'AttributeError': AttributeError,\n   'SyntaxError': SyntaxError,\n   'IndentationError': IndentationError,\n   'TabError': TabError,\n   'LookupError': LookupError,\n   'IndexError': IndexError,\n   'KeyError': KeyError,\n   'ValueError': ValueError,\n   'UnicodeError': UnicodeError,\n   'UnicodeEncodeError': UnicodeEncodeError,\n   'UnicodeDecodeError': UnicodeDecodeError,\n   'UnicodeTranslateError': UnicodeTranslateError,\n   'AssertionError': AssertionError,\n   'ArithmeticError': ArithmeticError,\n   'FloatingPointError': FloatingPointError,\n   'OverflowError': OverflowError,\n   'ZeroDivisionError': ZeroDivisionError,\n   'SystemError': SystemError,\n   'ReferenceError': ReferenceError,\n   'MemoryError': MemoryError,\n   'BufferError': BufferError,\n   'Warning': Warning,\n   'UserWarning': UserWarning,\n   'DeprecationWarning': DeprecationWarning,\n   'PendingDeprecationWarning': PendingDeprecationWarning,\n   'SyntaxWarning': SyntaxWarning,\n   'RuntimeWarning': RuntimeWarning,\n   'FutureWarning': FutureWarning,\n   'ImportWarning': ImportWarning,\n   'UnicodeWarning': UnicodeWarning,\n   'BytesWarning': BytesWarning,\n   'ResourceWarning': ResourceWarning,\n   'ConnectionError': ConnectionError,\n   'BlockingIOError': BlockingIOError,\n   'BrokenPipeError': BrokenPipeError,\n   'ChildProcessError': ChildProcessError,\n   'ConnectionAbortedError': ConnectionAbortedError,\n   'ConnectionRefusedError': ConnectionRefusedError,\n   'ConnectionResetError': ConnectionResetError,\n   'FileExistsError': FileExistsError,\n   'FileNotFoundError': FileNotFoundError,\n   'IsADirectoryError': IsADirectoryError,\n   'NotADirectoryError': NotADirectoryError,\n   'InterruptedError': InterruptedError,\n   'PermissionError': PermissionError,\n   'ProcessLookupError': ProcessLookupError,\n   'TimeoutError': TimeoutError,\n   'open': <function io.open(file, mode='r', buffering=-1, encoding=None, errors=None, newline=None, closefd=True, opener=None)>,\n   'copyright': Copyright (c) 2001-2020 Python Software Foundation.\n   All Rights Reserved.\n   \n   Copyright (c) 2000 BeOpen.com.\n   All Rights Reserved.\n   \n   Copyright (c) 1995-2001 Corporation for National Research Initiatives.\n   All Rights Reserved.\n   \n   Copyright (c) 1991-1995 Stichting Mathematisch Centrum, Amsterdam.\n   All Rights Reserved.,\n   'credits':     Thanks to CWI, CNRI, BeOpen.com, Zope Corporation and a cast of thousands\n       for supporting Python development.  See www.python.org for more information.,\n   'license': Type license() to see the full license text,\n   'help': Type help() for interactive help, or help(object) for help about object.,\n   '__IPYTHON__': True,\n   'display': <function IPython.core.display.display(*objs, include=None, exclude=None, metadata=None, transient=None, display_id=None, **kwargs)>,\n   '__pybind11_internals_v3_gcc_libstdcpp_cxxabi1002__': <capsule object NULL at 0x7f814fcd2ea0>,\n   'get_ipython': <bound method InteractiveShell.get_ipython of <ipykernel.zmqshell.ZMQInteractiveShell object at 0x7f816824d8b0>>},\n  'matlab': <module 'scipy.io.matlab' from '/home/jianli/.virtualenvs/dev/lib/python3.8/site-packages/scipy/io/matlab/__init__.py'>,\n  'loadmat': <function scipy.io.matlab.mio.loadmat(file_name, mdict=None, appendmat=True, **kwargs)>,\n  'savemat': <function scipy.io.matlab.mio.savemat(file_name, mdict, appendmat=True, format='5', long_field_names=False, do_compression=False, oned_as='row')>,\n  'whosmat': <function scipy.io.matlab.mio.whosmat(file_name, appendmat=True, **kwargs)>,\n  'byteordercodes': <module 'scipy.io.matlab.byteordercodes' from '/home/jianli/.virtualenvs/dev/lib/python3.8/site-packages/scipy/io/matlab/byteordercodes.py'>,\n  'netcdf': <module 'scipy.io.netcdf' from '/home/jianli/.virtualenvs/dev/lib/python3.8/site-packages/scipy/io/netcdf.py'>,\n  'netcdf_file': scipy.io.netcdf.netcdf_file,\n  'netcdf_variable': scipy.io.netcdf.netcdf_variable,\n  '_fortran': <module 'scipy.io._fortran' from '/home/jianli/.virtualenvs/dev/lib/python3.8/site-packages/scipy/io/_fortran.py'>,\n  'FortranFile': scipy.io._fortran.FortranFile,\n  'FortranEOFError': scipy.io._fortran.FortranEOFError,\n  'FortranFormattingError': scipy.io._fortran.FortranFormattingError,\n  'mmio': <module 'scipy.io.mmio' from '/home/jianli/.virtualenvs/dev/lib/python3.8/site-packages/scipy/io/mmio.py'>,\n  'mminfo': <function scipy.io.mmio.mminfo(source)>,\n  'mmread': <function scipy.io.mmio.mmread(source)>,\n  'mmwrite': <function scipy.io.mmio.mmwrite(target, a, comment='', field=None, precision=None, symmetry=None)>,\n  'idl': <module 'scipy.io.idl' from '/home/jianli/.virtualenvs/dev/lib/python3.8/site-packages/scipy/io/idl.py'>,\n  'readsav': <function scipy.io.idl.readsav(file_name, idict=None, python_dict=False, uncompressed_file_name=None, verbose=False)>,\n  'harwell_boeing': <module 'scipy.io.harwell_boeing' from '/home/jianli/.virtualenvs/dev/lib/python3.8/site-packages/scipy/io/harwell_boeing/__init__.py'>,\n  'hb_read': <function scipy.io.harwell_boeing.hb.hb_read(path_or_open_file)>,\n  'hb_write': <function scipy.io.harwell_boeing.hb.hb_write(path_or_open_file, m, hb_info=None)>,\n  '__all__': ['FortranEOFError',\n   'FortranFile',\n   'FortranFormattingError',\n   'byteordercodes',\n   'harwell_boeing',\n   'hb_read',\n   'hb_write',\n   'idl',\n   'loadmat',\n   'matlab',\n   'mminfo',\n   'mmio',\n   'mmread',\n   'mmwrite',\n   'netcdf',\n   'netcdf_file',\n   'netcdf_variable',\n   'readsav',\n   'savemat',\n   'whosmat'],\n  'test': <scipy._lib._testutils.PytestTester at 0x7f81603864f0>},\n '_i11': 'user.change_password.__func__.__module__',\n '_i12': 'None',\n '_i13': 'print(None)',\n '_i14': 'type(None)',\n '_14': NoneType,\n '_i15': '__builtins__',\n '_15': <module 'builtins' (built-in)>,\n '_i16': 'dir(__builtins__)',\n '_16': ['ArithmeticError',\n  'AssertionError',\n  'AttributeError',\n  'BaseException',\n  'BlockingIOError',\n  'BrokenPipeError',\n  'BufferError',\n  'BytesWarning',\n  'ChildProcessError',\n  'ConnectionAbortedError',\n  'ConnectionError',\n  'ConnectionRefusedError',\n  'ConnectionResetError',\n  'DeprecationWarning',\n  'EOFError',\n  'Ellipsis',\n  'EnvironmentError',\n  'Exception',\n  'False',\n  'FileExistsError',\n  'FileNotFoundError',\n  'FloatingPointError',\n  'FutureWarning',\n  'GeneratorExit',\n  'IOError',\n  'ImportError',\n  'ImportWarning',\n  'IndentationError',\n  'IndexError',\n  'InterruptedError',\n  'IsADirectoryError',\n  'KeyError',\n  'KeyboardInterrupt',\n  'LookupError',\n  'MemoryError',\n  'ModuleNotFoundError',\n  'NameError',\n  'None',\n  'NotADirectoryError',\n  'NotImplemented',\n  'NotImplementedError',\n  'OSError',\n  'OverflowError',\n  'PendingDeprecationWarning',\n  'PermissionError',\n  'ProcessLookupError',\n  'RecursionError',\n  'ReferenceError',\n  'ResourceWarning',\n  'RuntimeError',\n  'RuntimeWarning',\n  'StopAsyncIteration',\n  'StopIteration',\n  'SyntaxError',\n  'SyntaxWarning',\n  'SystemError',\n  'SystemExit',\n  'TabError',\n  'TimeoutError',\n  'True',\n  'TypeError',\n  'UnboundLocalError',\n  'UnicodeDecodeError',\n  'UnicodeEncodeError',\n  'UnicodeError',\n  'UnicodeTranslateError',\n  'UnicodeWarning',\n  'UserWarning',\n  'ValueError',\n  'Warning',\n  'ZeroDivisionError',\n  '__IPYTHON__',\n  '__build_class__',\n  '__debug__',\n  '__doc__',\n  '__import__',\n  '__loader__',\n  '__name__',\n  '__package__',\n  '__pybind11_internals_v3_gcc_libstdcpp_cxxabi1002__',\n  '__spec__',\n  'abs',\n  'all',\n  'any',\n  'ascii',\n  'bin',\n  'bool',\n  'breakpoint',\n  'bytearray',\n  'bytes',\n  'callable',\n  'chr',\n  'classmethod',\n  'compile',\n  'complex',\n  'copyright',\n  'credits',\n  'delattr',\n  'dict',\n  'dir',\n  'display',\n  'divmod',\n  'enumerate',\n  'eval',\n  'exec',\n  'filter',\n  'float',\n  'format',\n  'frozenset',\n  'get_ipython',\n  'getattr',\n  'globals',\n  'hasattr',\n  'hash',\n  'help',\n  'hex',\n  'id',\n  'input',\n  'int',\n  'isinstance',\n  'issubclass',\n  'iter',\n  'len',\n  'license',\n  'list',\n  'locals',\n  'map',\n  'max',\n  'memoryview',\n  'min',\n  'next',\n  'object',\n  'oct',\n  'open',\n  'ord',\n  'pow',\n  'print',\n  'property',\n  'range',\n  'repr',\n  'reversed',\n  'round',\n  'set',\n  'setattr',\n  'slice',\n  'sorted',\n  'staticmethod',\n  'str',\n  'sum',\n  'super',\n  'tuple',\n  'type',\n  'vars',\n  'zip'],\n '_i17': 'getattr(__builtins__, \"None\")',\n '_i18': '# Singleton\\nanother_none = type(None)()',\n 'another_none': None,\n '_i19': 'another_none is None',\n '_19': True,\n '_i20': 'another_none == None',\n '_20': True,\n '_i21': 'id(None)',\n '_21': 9447968,\n '_i22': 'id(another_none)',\n '_22': 9447968,\n '_i23': 'class AnotherNone(type(None)):\\n    pass',\n '_i24': 'class SmallFloat:\\n    def __init__(self, value):\\n        self.value = value\\n    \\n    def __lt__(self, other):\\n        if isinstance(other, (SmallFloat, SmallInt)):\\n            print(\"Call SmallFloat.__lt__...\")\\n            return self.value < other.value\\n        return NotImplemented\\n    \\n    def __gt__(self, other):\\n        print(\"Not implement SmallFloat.__gt__\")\\n        return NotImplemented',\n 'SmallFloat': __main__.SmallFloat,\n '_i25': 'f1 = SmallFloat(10.0)\\nf2 = SmallFloat(20.0)\\nf1 > f2',\n 'f1': <__main__.SmallFloat at 0x7f8133401790>,\n 'f2': <__main__.SmallFloat at 0x7f816086dc10>,\n '_i26': 'class SmallFloat:\\n    def __init__(self, value):\\n        self.value = value\\n    \\n    def __lt__(self, other):\\n        if isinstance(other, (SmallFloat, SmallInt)):\\n            print(\"Call SmallFloat.__lt__...\")\\n            return self.value < other.value\\n        return NotImplemented\\n    \\n    def __gt__(self, other):\\n        print(\"Not implement SmallFloat.__gt__\")\\n        raise NotImplementedError',\n '_i27': 'f1 = SmallFloat(10.0)\\nf2 = SmallFloat(20.0)\\nf1 > f2',\n '_i28': 'bool(NotImplemented)',\n '_28': True,\n '_i29': 'Ellipsis',\n '_29': Ellipsis,\n '_i30': 'type(Ellipsis)',\n '_30': ellipsis,\n '_i31': '...',\n '_31': Ellipsis,\n '_i32': 'import numpy as np',\n 'np': <module 'numpy' from '/home/jianli/.virtualenvs/dev/lib/python3.8/site-packages/numpy/__init__.py'>,\n '_i33': 'x = np.arange(16).reshape(2, 2, 4)',\n 'x': array([[[ 0,  1,  2,  3],\n         [ 4,  5,  6,  7]],\n \n        [[ 8,  9, 10, 11],\n         [12, 13, 14, 15]]]),\n '_i34': 'x',\n '_34': array([[[ 0,  1,  2,  3],\n         [ 4,  5,  6,  7]],\n \n        [[ 8,  9, 10, 11],\n         [12, 13, 14, 15]]]),\n '_i35': 'x[...]',\n '_35': array([[[ 0,  1,  2,  3],\n         [ 4,  5,  6,  7]],\n \n        [[ 8,  9, 10, 11],\n         [12, 13, 14, 15]]]),\n '_i36': 'x[1,...]',\n '_36': array([[ 8,  9, 10, 11],\n        [12, 13, 14, 15]]),\n '_i37': 'x[...,1]',\n '_37': array([[ 1,  5],\n        [ 9, 13]]),\n '_i38': 'x[1, ..., 1]',\n '_38': array([ 9, 13]),\n '_i39': 'x[..., 1, 1]',\n '_39': array([ 5, 13]),\n '_i40': 'def run(a: int, b: float, c: float = 1.0) -> float:\\n    \"\"\"Process numbers\"\"\"\\n    return a + b + c',\n 'run': <function __main__.run(a: int, b: float, c: float = 1.0) -> float>,\n '_i41': 'run.__doc__',\n '_41': 'Process numbers',\n '_i42': 'run.__name__',\n '_42': 'run',\n '_i43': 'run.__qualname__',\n '_43': 'run',\n '_i44': 'run.__module__',\n '_44': '__main__',\n '_i45': 'run.__defaults__',\n '_45': (1.0,),\n '_i46': 'run.__code__',\n '_46': <code object run at 0x7f816d466190, file \"<ipython-input-40-8fe405244565>\", line 1>,\n '_i47': 'run.__globals__'}"
     },
     "metadata": {},
     "execution_count": 47
    }
   ],
   "source": [
    "run.__globals__"
   ]
  },
  {
   "cell_type": "code",
   "execution_count": 48,
   "metadata": {},
   "outputs": [
    {
     "output_type": "execute_result",
     "data": {
      "text/plain": "{}"
     },
     "metadata": {},
     "execution_count": 48
    }
   ],
   "source": [
    "run.__dict__"
   ]
  },
  {
   "cell_type": "code",
   "execution_count": 49,
   "metadata": {},
   "outputs": [],
   "source": [
    "run.__closure__"
   ]
  },
  {
   "cell_type": "code",
   "execution_count": 50,
   "metadata": {},
   "outputs": [
    {
     "output_type": "execute_result",
     "data": {
      "text/plain": "{'a': int, 'b': float, 'c': float, 'return': float}"
     },
     "metadata": {},
     "execution_count": 50
    }
   ],
   "source": [
    "run.__annotations__"
   ]
  },
  {
   "cell_type": "code",
   "execution_count": 51,
   "metadata": {},
   "outputs": [],
   "source": [
    "run.__kwdefaults__"
   ]
  },
  {
   "cell_type": "markdown",
   "metadata": {},
   "source": [
    "## Instance method"
   ]
  },
  {
   "cell_type": "code",
   "execution_count": 52,
   "metadata": {},
   "outputs": [],
   "source": [
    "class User:\n",
    "    \"\"\"Customized user class\"\"\"\n",
    "\n",
    "    def __init__(self, name: str, password: str, active: bool=True):\n",
    "        \"\"\"Initialize user class\"\"\"\n",
    "        self.name = name\n",
    "        self.password = password\n",
    "    \n",
    "    def __repr__(self):\n",
    "        \"\"\"User string representation\"\"\"\n",
    "        return f\"<User: {self.name}>\"\n",
    "\n",
    "    def change_password(self, new_password):\n",
    "        \"\"\"User changes password\"\"\"\n",
    "        self.password = new_password"
   ]
  },
  {
   "cell_type": "code",
   "execution_count": 53,
   "metadata": {},
   "outputs": [],
   "source": [
    "user = User(name=\"tester\", password=\"123456\")"
   ]
  },
  {
   "cell_type": "code",
   "execution_count": 54,
   "metadata": {},
   "outputs": [
    {
     "output_type": "execute_result",
     "data": {
      "text/plain": "'User changes password'"
     },
     "metadata": {},
     "execution_count": 54
    }
   ],
   "source": [
    "user.change_password.__doc__"
   ]
  },
  {
   "cell_type": "code",
   "execution_count": 55,
   "metadata": {},
   "outputs": [
    {
     "output_type": "execute_result",
     "data": {
      "text/plain": "<User: tester>"
     },
     "metadata": {},
     "execution_count": 55
    }
   ],
   "source": [
    "user.change_password.__self__"
   ]
  },
  {
   "cell_type": "code",
   "execution_count": 56,
   "metadata": {},
   "outputs": [
    {
     "output_type": "execute_result",
     "data": {
      "text/plain": "<function __main__.User.change_password(self, new_password)>"
     },
     "metadata": {},
     "execution_count": 56
    }
   ],
   "source": [
    "user.change_password.__func__"
   ]
  },
  {
   "cell_type": "code",
   "execution_count": 57,
   "metadata": {},
   "outputs": [
    {
     "output_type": "execute_result",
     "data": {
      "text/plain": "'change_password'"
     },
     "metadata": {},
     "execution_count": 57
    }
   ],
   "source": [
    "user.change_password.__func__.__name__"
   ]
  },
  {
   "cell_type": "code",
   "execution_count": 58,
   "metadata": {},
   "outputs": [
    {
     "output_type": "execute_result",
     "data": {
      "text/plain": "'__main__'"
     },
     "metadata": {},
     "execution_count": 58
    }
   ],
   "source": [
    "user.change_password.__func__.__module__"
   ]
  },
  {
   "cell_type": "markdown",
   "metadata": {},
   "source": [
    "## Generattor functions"
   ]
  },
  {
   "cell_type": "code",
   "execution_count": 80,
   "metadata": {},
   "outputs": [],
   "source": [
    "def generate_numbers(n):\n",
    "    i = 0\n",
    "    while i < n:\n",
    "        yield i\n",
    "        i += 1"
   ]
  },
  {
   "cell_type": "code",
   "execution_count": 81,
   "metadata": {},
   "outputs": [],
   "source": [
    "numbers = generate_numbers(5)"
   ]
  },
  {
   "cell_type": "code",
   "execution_count": 82,
   "metadata": {},
   "outputs": [
    {
     "output_type": "execute_result",
     "data": {
      "text/plain": "<generator object generate_numbers at 0x7f813352eb30>"
     },
     "metadata": {},
     "execution_count": 82
    }
   ],
   "source": [
    "numbers"
   ]
  },
  {
   "cell_type": "code",
   "execution_count": 83,
   "metadata": {},
   "outputs": [
    {
     "output_type": "execute_result",
     "data": {
      "text/plain": "0"
     },
     "metadata": {},
     "execution_count": 83
    }
   ],
   "source": [
    "next(numbers)"
   ]
  },
  {
   "cell_type": "code",
   "execution_count": 84,
   "metadata": {},
   "outputs": [
    {
     "output_type": "execute_result",
     "data": {
      "text/plain": "1"
     },
     "metadata": {},
     "execution_count": 84
    }
   ],
   "source": [
    "numbers.__next__()"
   ]
  },
  {
   "cell_type": "code",
   "execution_count": 85,
   "metadata": {
    "tags": []
   },
   "outputs": [
    {
     "output_type": "stream",
     "name": "stdout",
     "text": "2\n3\n4\n"
    }
   ],
   "source": [
    "for i in numbers:\n",
    "    print(i)"
   ]
  },
  {
   "cell_type": "code",
   "execution_count": 86,
   "metadata": {},
   "outputs": [
    {
     "output_type": "error",
     "ename": "StopIteration",
     "evalue": "",
     "traceback": [
      "\u001b[0;31m---------------------------------------------------------------------------\u001b[0m",
      "\u001b[0;31mStopIteration\u001b[0m                             Traceback (most recent call last)",
      "\u001b[0;32m<ipython-input-86-270f72471946>\u001b[0m in \u001b[0;36m<module>\u001b[0;34m\u001b[0m\n\u001b[0;32m----> 1\u001b[0;31m \u001b[0mnext\u001b[0m\u001b[0;34m(\u001b[0m\u001b[0mnumbers\u001b[0m\u001b[0;34m)\u001b[0m\u001b[0;34m\u001b[0m\u001b[0;34m\u001b[0m\u001b[0m\n\u001b[0m",
      "\u001b[0;31mStopIteration\u001b[0m: "
     ]
    }
   ],
   "source": [
    "next(numbers)"
   ]
  },
  {
   "cell_type": "markdown",
   "metadata": {},
   "source": [
    "## Coroutine functions"
   ]
  },
  {
   "cell_type": "code",
   "execution_count": null,
   "metadata": {},
   "outputs": [],
   "source": [
    "import asyncio\n",
    "\n",
    "async def say():\n",
    "    print(\"Hello\")\n"
   ]
  },
  {
   "cell_type": "markdown",
   "metadata": {},
   "source": [
    "# Modules"
   ]
  },
  {
   "cell_type": "code",
   "execution_count": 59,
   "metadata": {},
   "outputs": [],
   "source": [
    "import scipy.io as sio"
   ]
  },
  {
   "cell_type": "code",
   "execution_count": 60,
   "metadata": {},
   "outputs": [
    {
     "output_type": "execute_result",
     "data": {
      "text/plain": "'scipy.io'"
     },
     "metadata": {},
     "execution_count": 60
    }
   ],
   "source": [
    "sio.__name__"
   ]
  },
  {
   "cell_type": "code",
   "execution_count": 61,
   "metadata": {},
   "outputs": [
    {
     "output_type": "execute_result",
     "data": {
      "text/plain": "<_frozen_importlib_external.SourceFileLoader at 0x7f8168205cd0>"
     },
     "metadata": {},
     "execution_count": 61
    }
   ],
   "source": [
    "sio.__loader__"
   ]
  },
  {
   "cell_type": "code",
   "execution_count": 62,
   "metadata": {},
   "outputs": [
    {
     "output_type": "execute_result",
     "data": {
      "text/plain": "ModuleSpec(name='scipy.io', loader=<_frozen_importlib_external.SourceFileLoader object at 0x7f8168205cd0>, origin='/home/jianli/.virtualenvs/dev/lib/python3.8/site-packages/scipy/io/__init__.py', submodule_search_locations=['/home/jianli/.virtualenvs/dev/lib/python3.8/site-packages/scipy/io'])"
     },
     "metadata": {},
     "execution_count": 62
    }
   ],
   "source": [
    "sio.__spec__"
   ]
  },
  {
   "cell_type": "code",
   "execution_count": 63,
   "metadata": {},
   "outputs": [
    {
     "output_type": "execute_result",
     "data": {
      "text/plain": "['/home/jianli/.virtualenvs/dev/lib/python3.8/site-packages/scipy/io']"
     },
     "metadata": {},
     "execution_count": 63
    }
   ],
   "source": [
    "sio.__path__"
   ]
  },
  {
   "cell_type": "code",
   "execution_count": 64,
   "metadata": {},
   "outputs": [
    {
     "output_type": "execute_result",
     "data": {
      "text/plain": "'/home/jianli/.virtualenvs/dev/lib/python3.8/site-packages/scipy/io/__init__.py'"
     },
     "metadata": {},
     "execution_count": 64
    }
   ],
   "source": [
    "sio.__file__"
   ]
  },
  {
   "cell_type": "code",
   "execution_count": 65,
   "metadata": {},
   "outputs": [
    {
     "output_type": "execute_result",
     "data": {
      "text/plain": "'/home/jianli/.virtualenvs/dev/lib/python3.8/site-packages/scipy/io/__pycache__/__init__.cpython-38.pyc'"
     },
     "metadata": {},
     "execution_count": 65
    }
   ],
   "source": [
    "sio.__cached__"
   ]
  },
  {
   "cell_type": "code",
   "execution_count": 66,
   "metadata": {},
   "outputs": [
    {
     "output_type": "execute_result",
     "data": {
      "text/plain": "{'__name__': 'scipy.io',\n '__doc__': \"\\n==================================\\nInput and output (:mod:`scipy.io`)\\n==================================\\n\\n.. currentmodule:: scipy.io\\n\\nSciPy has many modules, classes, and functions available to read data\\nfrom and write data to a variety of file formats.\\n\\n.. seealso:: `NumPy IO routines <https://www.numpy.org/devdocs/reference/routines.io.html>`__\\n\\nMATLAB® files\\n=============\\n\\n.. autosummary::\\n   :toctree: generated/\\n\\n   loadmat - Read a MATLAB style mat file (version 4 through 7.1)\\n   savemat - Write a MATLAB style mat file (version 4 through 7.1)\\n   whosmat - List contents of a MATLAB style mat file (version 4 through 7.1)\\n\\nIDL® files\\n==========\\n\\n.. autosummary::\\n   :toctree: generated/\\n\\n   readsav - Read an IDL 'save' file\\n\\nMatrix Market files\\n===================\\n\\n.. autosummary::\\n   :toctree: generated/\\n\\n   mminfo - Query matrix info from Matrix Market formatted file\\n   mmread - Read matrix from Matrix Market formatted file\\n   mmwrite - Write matrix to Matrix Market formatted file\\n\\nUnformatted Fortran files\\n===============================\\n\\n.. autosummary::\\n   :toctree: generated/\\n\\n   FortranFile - A file object for unformatted sequential Fortran files\\n   FortranEOFError - Exception indicating the end of a well-formed file\\n   FortranFormattingError - Exception indicating an inappropriate end\\n\\nNetcdf\\n======\\n\\n.. autosummary::\\n   :toctree: generated/\\n\\n   netcdf_file - A file object for NetCDF data\\n   netcdf_variable - A data object for the netcdf module\\n\\nHarwell-Boeing files\\n====================\\n\\n.. autosummary::\\n   :toctree: generated/\\n\\n   hb_read   -- read H-B file\\n   hb_write  -- write H-B file\\n\\nWav sound files (:mod:`scipy.io.wavfile`)\\n=========================================\\n\\n.. module:: scipy.io.wavfile\\n\\n.. autosummary::\\n   :toctree: generated/\\n\\n   read\\n   write\\n   WavFileWarning\\n\\nArff files (:mod:`scipy.io.arff`)\\n=================================\\n\\n.. module:: scipy.io.arff\\n\\n.. autosummary::\\n   :toctree: generated/\\n\\n   loadarff\\n   MetaData\\n   ArffError\\n   ParseArffError\\n\\n\",\n '__package__': 'scipy.io',\n '__loader__': <_frozen_importlib_external.SourceFileLoader at 0x7f8168205cd0>,\n '__spec__': ModuleSpec(name='scipy.io', loader=<_frozen_importlib_external.SourceFileLoader object at 0x7f8168205cd0>, origin='/home/jianli/.virtualenvs/dev/lib/python3.8/site-packages/scipy/io/__init__.py', submodule_search_locations=['/home/jianli/.virtualenvs/dev/lib/python3.8/site-packages/scipy/io']),\n '__path__': ['/home/jianli/.virtualenvs/dev/lib/python3.8/site-packages/scipy/io'],\n '__file__': '/home/jianli/.virtualenvs/dev/lib/python3.8/site-packages/scipy/io/__init__.py',\n '__cached__': '/home/jianli/.virtualenvs/dev/lib/python3.8/site-packages/scipy/io/__pycache__/__init__.cpython-38.pyc',\n '__builtins__': {'__name__': 'builtins',\n  '__doc__': \"Built-in functions, exceptions, and other objects.\\n\\nNoteworthy: None is the `nil' object; Ellipsis represents `...' in slices.\",\n  '__package__': '',\n  '__loader__': _frozen_importlib.BuiltinImporter,\n  '__spec__': ModuleSpec(name='builtins', loader=<class '_frozen_importlib.BuiltinImporter'>),\n  '__build_class__': <function __build_class__>,\n  '__import__': <function __import__>,\n  'abs': <function abs(x, /)>,\n  'all': <function all(iterable, /)>,\n  'any': <function any(iterable, /)>,\n  'ascii': <function ascii(obj, /)>,\n  'bin': <function bin(number, /)>,\n  'breakpoint': <function breakpoint>,\n  'callable': <function callable(obj, /)>,\n  'chr': <function chr(i, /)>,\n  'compile': <function compile(source, filename, mode, flags=0, dont_inherit=False, optimize=-1, *, _feature_version=-1)>,\n  'delattr': <function delattr(obj, name, /)>,\n  'dir': <function dir>,\n  'divmod': <function divmod(x, y, /)>,\n  'eval': <function eval(source, globals=None, locals=None, /)>,\n  'exec': <function exec(source, globals=None, locals=None, /)>,\n  'format': <function format(value, format_spec='', /)>,\n  'getattr': <function getattr>,\n  'globals': <function globals()>,\n  'hasattr': <function hasattr(obj, name, /)>,\n  'hash': <function hash(obj, /)>,\n  'hex': <function hex(number, /)>,\n  'id': <function id(obj, /)>,\n  'input': <bound method Kernel.raw_input of <ipykernel.ipkernel.IPythonKernel object at 0x7f8169aa4910>>,\n  'isinstance': <function isinstance(obj, class_or_tuple, /)>,\n  'issubclass': <function issubclass(cls, class_or_tuple, /)>,\n  'iter': <function iter>,\n  'len': <function len(obj, /)>,\n  'locals': <function locals()>,\n  'max': <function max>,\n  'min': <function min>,\n  'next': <function next>,\n  'oct': <function oct(number, /)>,\n  'ord': <function ord(c, /)>,\n  'pow': <function pow(base, exp, mod=None)>,\n  'print': <function print>,\n  'repr': <function repr(obj, /)>,\n  'round': <function round(number, ndigits=None)>,\n  'setattr': <function setattr(obj, name, value, /)>,\n  'sorted': <function sorted(iterable, /, *, key=None, reverse=False)>,\n  'sum': <function sum(iterable, /, start=0)>,\n  'vars': <function vars>,\n  'None': None,\n  'Ellipsis': Ellipsis,\n  'NotImplemented': NotImplemented,\n  'False': False,\n  'True': True,\n  'bool': bool,\n  'memoryview': memoryview,\n  'bytearray': bytearray,\n  'bytes': bytes,\n  'classmethod': classmethod,\n  'complex': complex,\n  'dict': dict,\n  'enumerate': enumerate,\n  'filter': filter,\n  'float': float,\n  'frozenset': frozenset,\n  'property': property,\n  'int': int,\n  'list': list,\n  'map': map,\n  'object': object,\n  'range': range,\n  'reversed': reversed,\n  'set': set,\n  'slice': slice,\n  'staticmethod': staticmethod,\n  'str': str,\n  'super': super,\n  'tuple': tuple,\n  'type': type,\n  'zip': zip,\n  '__debug__': True,\n  'BaseException': BaseException,\n  'Exception': Exception,\n  'TypeError': TypeError,\n  'StopAsyncIteration': StopAsyncIteration,\n  'StopIteration': StopIteration,\n  'GeneratorExit': GeneratorExit,\n  'SystemExit': SystemExit,\n  'KeyboardInterrupt': KeyboardInterrupt,\n  'ImportError': ImportError,\n  'ModuleNotFoundError': ModuleNotFoundError,\n  'OSError': OSError,\n  'EnvironmentError': OSError,\n  'IOError': OSError,\n  'EOFError': EOFError,\n  'RuntimeError': RuntimeError,\n  'RecursionError': RecursionError,\n  'NotImplementedError': NotImplementedError,\n  'NameError': NameError,\n  'UnboundLocalError': UnboundLocalError,\n  'AttributeError': AttributeError,\n  'SyntaxError': SyntaxError,\n  'IndentationError': IndentationError,\n  'TabError': TabError,\n  'LookupError': LookupError,\n  'IndexError': IndexError,\n  'KeyError': KeyError,\n  'ValueError': ValueError,\n  'UnicodeError': UnicodeError,\n  'UnicodeEncodeError': UnicodeEncodeError,\n  'UnicodeDecodeError': UnicodeDecodeError,\n  'UnicodeTranslateError': UnicodeTranslateError,\n  'AssertionError': AssertionError,\n  'ArithmeticError': ArithmeticError,\n  'FloatingPointError': FloatingPointError,\n  'OverflowError': OverflowError,\n  'ZeroDivisionError': ZeroDivisionError,\n  'SystemError': SystemError,\n  'ReferenceError': ReferenceError,\n  'MemoryError': MemoryError,\n  'BufferError': BufferError,\n  'Warning': Warning,\n  'UserWarning': UserWarning,\n  'DeprecationWarning': DeprecationWarning,\n  'PendingDeprecationWarning': PendingDeprecationWarning,\n  'SyntaxWarning': SyntaxWarning,\n  'RuntimeWarning': RuntimeWarning,\n  'FutureWarning': FutureWarning,\n  'ImportWarning': ImportWarning,\n  'UnicodeWarning': UnicodeWarning,\n  'BytesWarning': BytesWarning,\n  'ResourceWarning': ResourceWarning,\n  'ConnectionError': ConnectionError,\n  'BlockingIOError': BlockingIOError,\n  'BrokenPipeError': BrokenPipeError,\n  'ChildProcessError': ChildProcessError,\n  'ConnectionAbortedError': ConnectionAbortedError,\n  'ConnectionRefusedError': ConnectionRefusedError,\n  'ConnectionResetError': ConnectionResetError,\n  'FileExistsError': FileExistsError,\n  'FileNotFoundError': FileNotFoundError,\n  'IsADirectoryError': IsADirectoryError,\n  'NotADirectoryError': NotADirectoryError,\n  'InterruptedError': InterruptedError,\n  'PermissionError': PermissionError,\n  'ProcessLookupError': ProcessLookupError,\n  'TimeoutError': TimeoutError,\n  'open': <function io.open(file, mode='r', buffering=-1, encoding=None, errors=None, newline=None, closefd=True, opener=None)>,\n  'copyright': Copyright (c) 2001-2020 Python Software Foundation.\n  All Rights Reserved.\n  \n  Copyright (c) 2000 BeOpen.com.\n  All Rights Reserved.\n  \n  Copyright (c) 1995-2001 Corporation for National Research Initiatives.\n  All Rights Reserved.\n  \n  Copyright (c) 1991-1995 Stichting Mathematisch Centrum, Amsterdam.\n  All Rights Reserved.,\n  'credits':     Thanks to CWI, CNRI, BeOpen.com, Zope Corporation and a cast of thousands\n      for supporting Python development.  See www.python.org for more information.,\n  'license': Type license() to see the full license text,\n  'help': Type help() for interactive help, or help(object) for help about object.,\n  '__IPYTHON__': True,\n  'display': <function IPython.core.display.display(*objs, include=None, exclude=None, metadata=None, transient=None, display_id=None, **kwargs)>,\n  '__pybind11_internals_v3_gcc_libstdcpp_cxxabi1002__': <capsule object NULL at 0x7f814fcd2ea0>,\n  'get_ipython': <bound method InteractiveShell.get_ipython of <ipykernel.zmqshell.ZMQInteractiveShell object at 0x7f816824d8b0>>},\n 'matlab': <module 'scipy.io.matlab' from '/home/jianli/.virtualenvs/dev/lib/python3.8/site-packages/scipy/io/matlab/__init__.py'>,\n 'loadmat': <function scipy.io.matlab.mio.loadmat(file_name, mdict=None, appendmat=True, **kwargs)>,\n 'savemat': <function scipy.io.matlab.mio.savemat(file_name, mdict, appendmat=True, format='5', long_field_names=False, do_compression=False, oned_as='row')>,\n 'whosmat': <function scipy.io.matlab.mio.whosmat(file_name, appendmat=True, **kwargs)>,\n 'byteordercodes': <module 'scipy.io.matlab.byteordercodes' from '/home/jianli/.virtualenvs/dev/lib/python3.8/site-packages/scipy/io/matlab/byteordercodes.py'>,\n 'netcdf': <module 'scipy.io.netcdf' from '/home/jianli/.virtualenvs/dev/lib/python3.8/site-packages/scipy/io/netcdf.py'>,\n 'netcdf_file': scipy.io.netcdf.netcdf_file,\n 'netcdf_variable': scipy.io.netcdf.netcdf_variable,\n '_fortran': <module 'scipy.io._fortran' from '/home/jianli/.virtualenvs/dev/lib/python3.8/site-packages/scipy/io/_fortran.py'>,\n 'FortranFile': scipy.io._fortran.FortranFile,\n 'FortranEOFError': scipy.io._fortran.FortranEOFError,\n 'FortranFormattingError': scipy.io._fortran.FortranFormattingError,\n 'mmio': <module 'scipy.io.mmio' from '/home/jianli/.virtualenvs/dev/lib/python3.8/site-packages/scipy/io/mmio.py'>,\n 'mminfo': <function scipy.io.mmio.mminfo(source)>,\n 'mmread': <function scipy.io.mmio.mmread(source)>,\n 'mmwrite': <function scipy.io.mmio.mmwrite(target, a, comment='', field=None, precision=None, symmetry=None)>,\n 'idl': <module 'scipy.io.idl' from '/home/jianli/.virtualenvs/dev/lib/python3.8/site-packages/scipy/io/idl.py'>,\n 'readsav': <function scipy.io.idl.readsav(file_name, idict=None, python_dict=False, uncompressed_file_name=None, verbose=False)>,\n 'harwell_boeing': <module 'scipy.io.harwell_boeing' from '/home/jianli/.virtualenvs/dev/lib/python3.8/site-packages/scipy/io/harwell_boeing/__init__.py'>,\n 'hb_read': <function scipy.io.harwell_boeing.hb.hb_read(path_or_open_file)>,\n 'hb_write': <function scipy.io.harwell_boeing.hb.hb_write(path_or_open_file, m, hb_info=None)>,\n '__all__': ['FortranEOFError',\n  'FortranFile',\n  'FortranFormattingError',\n  'byteordercodes',\n  'harwell_boeing',\n  'hb_read',\n  'hb_write',\n  'idl',\n  'loadmat',\n  'matlab',\n  'mminfo',\n  'mmio',\n  'mmread',\n  'mmwrite',\n  'netcdf',\n  'netcdf_file',\n  'netcdf_variable',\n  'readsav',\n  'savemat',\n  'whosmat'],\n 'test': <scipy._lib._testutils.PytestTester at 0x7f81603864f0>}"
     },
     "metadata": {},
     "execution_count": 66
    }
   ],
   "source": [
    "sio.__dict__"
   ]
  },
  {
   "cell_type": "code",
   "execution_count": null,
   "metadata": {},
   "outputs": [],
   "source": []
  }
 ]
}